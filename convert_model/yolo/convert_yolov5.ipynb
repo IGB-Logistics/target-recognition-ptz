{
 "cells": [
  {
   "cell_type": "code",
   "execution_count": 2,
   "metadata": {},
   "outputs": [
    {
     "name": "stdout",
     "output_type": "stream",
     "text": [
      "Inputs:  [name: \"input_image\"\n",
      "type {\n",
      "  tensor_type {\n",
      "    elem_type: 1\n",
      "    shape {\n",
      "      dim {\n",
      "        dim_value: 1\n",
      "      }\n",
      "      dim {\n",
      "        dim_value: 3\n",
      "      }\n",
      "      dim {\n",
      "        dim_value: 640\n",
      "      }\n",
      "      dim {\n",
      "        dim_value: 640\n",
      "      }\n",
      "    }\n",
      "  }\n",
      "}\n",
      "]\n",
      "Outputs:  [name: \"output0\"\n",
      "type {\n",
      "  tensor_type {\n",
      "    elem_type: 1\n",
      "    shape {\n",
      "      dim {\n",
      "        dim_value: 1\n",
      "      }\n",
      "      dim {\n",
      "        dim_value: 25200\n",
      "      }\n",
      "      dim {\n",
      "        dim_value: 85\n",
      "      }\n",
      "    }\n",
      "  }\n",
      "}\n",
      "]\n"
     ]
    },
    {
     "name": "stderr",
     "output_type": "stream",
     "text": [
      "2024-04-03 17:20:47.534629004 [E:onnxruntime:Default, env.cc:251 ThreadMain] pthread_setaffinity_np failed for thread: 3538006, index: 2, mask: {3, }, error code: 22 error msg: Invalid argument. Specify the number of threads explicitly so the affinity is not set.\n"
     ]
    },
    {
     "name": "stdout",
     "output_type": "stream",
     "text": [
      "[array([[[3.8995953e+00, 3.5312743e+00, 7.4998097e+00, ...,\n",
      "         1.3518035e-03, 5.6645274e-04, 1.5065968e-03],\n",
      "        [1.2532164e+01, 3.8660750e+00, 2.4975594e+01, ...,\n",
      "         1.3847649e-03, 7.8001618e-04, 1.5635192e-03],\n",
      "        [1.8204559e+01, 4.1037483e+00, 3.2745758e+01, ...,\n",
      "         1.2811124e-03, 7.7837706e-04, 1.7215014e-03],\n",
      "        ...,\n",
      "        [5.6543365e+02, 6.0541687e+02, 1.4089561e+02, ...,\n",
      "         2.2886992e-03, 9.6750259e-04, 1.1696219e-03],\n",
      "        [5.8790448e+02, 6.0599176e+02, 1.1021368e+02, ...,\n",
      "         2.3210347e-03, 1.0295510e-03, 1.2754202e-03],\n",
      "        [6.1625568e+02, 6.1786035e+02, 1.1451530e+02, ...,\n",
      "         2.2132695e-03, 1.1677444e-03, 1.3512969e-03]]], dtype=float32)]\n"
     ]
    }
   ],
   "source": [
    "import torch\n",
    "import cv2\n",
    "import numpy as np\n",
    "\n",
    "onnx_path = \"../../model/yolov5s.onnx\"  # 输出文件的路径\n",
    "img = cv2.imread(\"./world_cup.jpg\")\n",
    "\n",
    "# load onnx model\n",
    "import onnx\n",
    "import onnxruntime as ort\n",
    "\n",
    "onnx_model = onnx.load(onnx_path)\n",
    "\n",
    "# 打印输入和输出\n",
    "print(\"Inputs: \", onnx_model.graph.input)\n",
    "print(\"Outputs: \", onnx_model.graph.output)\n",
    "\n",
    "onnx.checker.check_model(onnx_model)\n",
    "# 打印模型的层\n",
    "# print(onnx.helper.printable_graph(onnx_model.graph))\n",
    "\n",
    "# 创建一个运行时会话\n",
    "sess = ort.InferenceSession(onnx_path)\n",
    "\n",
    "# 输入是一个形状为 (1, 3, 640, 640) 的张量\n",
    "# 将图像缩放到 640x640\n",
    "img = cv2.resize(img, (640, 640))\n",
    "# 将 BGR 图像转换为 RGB 图像\n",
    "img = cv2.cvtColor(img, cv2.COLOR_BGR2RGB)\n",
    "# 将图像数据类型转换为 float32，并将值范围从 [0, 255] 缩放到 [0.0, 1.0]\n",
    "img = img.astype('float32') / 255.0\n",
    "# 将 HWC 图像转换为 CHW 图像\n",
    "img = img.transpose((2, 0, 1))\n",
    "# 添加一个新的维度，将 CHW 图像转换为 NCHW 图像\n",
    "img_tensor = torch.from_numpy(img)\n",
    "\n",
    "img_array = np.expand_dims(img_tensor, axis=0)\n",
    "input_name = sess.get_inputs()[0].name\n",
    "\n",
    "# 运行模型\n",
    "result = sess.run(None, {input_name: img_array})\n",
    "\n",
    "# 打印结果\n",
    "print(result)\n"
   ]
  },
  {
   "cell_type": "code",
   "execution_count": null,
   "metadata": {},
   "outputs": [
    {
     "name": "stderr",
     "output_type": "stream",
     "text": [
      "607.20s - pydevd: Sending message related to process being replaced timed-out after 5 seconds\n"
     ]
    },
    {
     "name": "stdout",
     "output_type": "stream",
     "text": [
      "ATC start working now, please wait for a moment.\n",
      "/usr/local/miniconda3/lib/python3.9/site-packages/scipy/__init__.py:155: UserWarning: A NumPy version >=1.18.5 and <1.26.0 is required for this version of SciPy (detected version 1.26.4\n",
      "  warnings.warn(f\"A NumPy version >={np_minversion} and <{np_maxversion}\"\n",
      "/usr/local/miniconda3/lib/python3.9/site-packages/scipy/__init__.py:155: UserWarning: A NumPy version >=1.18.5 and <1.26.0 is required for this version of SciPy (detected version 1.26.4\n",
      "  warnings.warn(f\"A NumPy version >={np_minversion} and <{np_maxversion}\"\n",
      "/usr/local/miniconda3/lib/python3.9/site-packages/scipy/__init__.py:155: UserWarning: A NumPy version >=1.18.5 and <1.26.0 is required for this version of SciPy (detected version 1.26.4\n",
      "  warnings.warn(f\"A NumPy version >={np_minversion} and <{np_maxversion}\"\n",
      "/usr/local/miniconda3/lib/python3.9/site-packages/scipy/__init__.py:155: UserWarning: A NumPy version >=1.18.5 and <1.26.0 is required for this version of SciPy (detected version 1.26.4\n",
      "  warnings.warn(f\"A NumPy version >={np_minversion} and <{np_maxversion}\"\n",
      "/usr/local/miniconda3/lib/python3.9/site-packages/scipy/__init__.py:155: UserWarning: A NumPy version >=1.18.5 and <1.26.0 is required for this version of SciPy (detected version 1.26.4\n",
      "  warnings.warn(f\"A NumPy version >={np_minversion} and <{np_maxversion}\"\n",
      "/usr/local/miniconda3/lib/python3.9/site-packages/scipy/__init__.py:155: UserWarning: A NumPy version >=1.18.5 and <1.26.0 is required for this version of SciPy (detected version 1.26.4\n",
      "  warnings.warn(f\"A NumPy version >={np_minversion} and <{np_maxversion}\"\n",
      "/usr/local/miniconda3/lib/python3.9/site-packages/scipy/__init__.py:155: UserWarning: A NumPy version >=1.18.5 and <1.26.0 is required for this version of SciPy (detected version 1.26.4\n",
      "  warnings.warn(f\"A NumPy version >={np_minversion} and <{np_maxversion}\"\n",
      "/usr/local/miniconda3/lib/python3.9/site-packages/scipy/__init__.py:155: UserWarning: A NumPy version >=1.18.5 and <1.26.0 is required for this version of SciPy (detected version 1.26.4\n",
      "  warnings.warn(f\"A NumPy version >={np_minversion} and <{np_maxversion}\"\n",
      "/usr/local/miniconda3/lib/python3.9/site-packages/scipy/__init__.py:155: UserWarning: A NumPy version >=1.18.5 and <1.26.0 is required for this version of SciPy (detected version 1.26.4\n",
      "  warnings.warn(f\"A NumPy version >={np_minversion} and <{np_maxversion}\"\n",
      "/usr/local/miniconda3/lib/python3.9/site-packages/scipy/__init__.py:155: UserWarning: A NumPy version >=1.18.5 and <1.26.0 is required for this version of SciPy (detected version 1.26.4\n",
      "  warnings.warn(f\"A NumPy version >={np_minversion} and <{np_maxversion}\"\n",
      "/usr/local/miniconda3/lib/python3.9/site-packages/scipy/__init__.py:155: UserWarning: A NumPy version >=1.18.5 and <1.26.0 is required for this version of SciPy (detected version 1.26.4\n",
      "  warnings.warn(f\"A NumPy version >={np_minversion} and <{np_maxversion}\"\n",
      "/usr/local/miniconda3/lib/python3.9/site-packages/scipy/__init__.py:155: UserWarning: A NumPy version >=1.18.5 and <1.26.0 is required for this version of SciPy (detected version 1.26.4\n",
      "  warnings.warn(f\"A NumPy version >={np_minversion} and <{np_maxversion}\"\n",
      "/usr/local/miniconda3/lib/python3.9/site-packages/scipy/__init__.py:155: UserWarning: A NumPy version >=1.18.5 and <1.26.0 is required for this version of SciPy (detected version 1.26.4\n",
      "  warnings.warn(f\"A NumPy version >={np_minversion} and <{np_maxversion}\"\n",
      "/usr/local/miniconda3/lib/python3.9/site-packages/scipy/__init__.py:155: UserWarning: A NumPy version >=1.18.5 and <1.26.0 is required for this version of SciPy (detected version 1.26.4\n",
      "  warnings.warn(f\"A NumPy version >={np_minversion} and <{np_maxversion}\"\n",
      "/usr/local/miniconda3/lib/python3.9/site-packages/scipy/__init__.py:155: UserWarning: A NumPy version >=1.18.5 and <1.26.0 is required for this version of SciPy (detected version 1.26.4\n",
      "  warnings.warn(f\"A NumPy version >={np_minversion} and <{np_maxversion}\"\n",
      "/usr/local/miniconda3/lib/python3.9/site-packages/scipy/__init__.py:155: UserWarning: A NumPy version >=1.18.5 and <1.26.0 is required for this version of SciPy (detected version 1.26.4\n",
      "  warnings.warn(f\"A NumPy version >={np_minversion} and <{np_maxversion}\"\n",
      "/usr/local/miniconda3/lib/python3.9/site-packages/scipy/__init__.py:155: UserWarning: A NumPy version >=1.18.5 and <1.26.0 is required for this version of SciPy (detected version 1.26.4\n",
      "  warnings.warn(f\"A NumPy version >={np_minversion} and <{np_maxversion}\"\n",
      "/usr/local/miniconda3/lib/python3.9/site-packages/scipy/__init__.py:155: UserWarning: A NumPy version >=1.18.5 and <1.26.0 is required for this version of SciPy (detected version 1.26.4\n",
      "  warnings.warn(f\"A NumPy version >={np_minversion} and <{np_maxversion}\"\n",
      "...\n",
      "ATC run success, welcome to the next use.\n",
      "\n"
     ]
    }
   ],
   "source": [
    "# use atc convert onnx to om\n",
    "!atc --model=./model/yolov5s.onnx --framework=5 --output=./model/yolov5s --input_format=NCHW  --soc_version=Ascend310B4 "
   ]
  },
  {
   "cell_type": "code",
   "execution_count": 5,
   "metadata": {},
   "outputs": [
    {
     "name": "stdout",
     "output_type": "stream",
     "text": [
      "[INFO] load model ../../model/yolo.om success\n",
      "[INFO] create model description success\n",
      "[array([[[3.89843750e+00, 3.54687500e+00, 7.50390625e+00, ...,\n",
      "         1.35707855e-03, 5.68389893e-04, 1.50680542e-03],\n",
      "        [1.25390625e+01, 3.86718750e+00, 2.49375000e+01, ...,\n",
      "         1.38854980e-03, 7.82012939e-04, 1.56688690e-03],\n",
      "        [1.82031250e+01, 4.10937500e+00, 3.27187500e+01, ...,\n",
      "         1.28459930e-03, 7.82012939e-04, 1.72615051e-03],\n",
      "        ...,\n",
      "        [5.65500000e+02, 6.05500000e+02, 1.41000000e+02, ...,\n",
      "         2.28691101e-03, 9.69886780e-04, 1.17492676e-03],\n",
      "        [5.88000000e+02, 6.06000000e+02, 1.10187500e+02, ...,\n",
      "         2.32315063e-03, 1.02806091e-03, 1.27410889e-03],\n",
      "        [6.16000000e+02, 6.18000000e+02, 1.14375000e+02, ...,\n",
      "         2.21633911e-03, 1.17015839e-03, 1.35040283e-03]]], dtype=float32)]\n"
     ]
    }
   ],
   "source": [
    "from ais_bench.infer.interface import InferSession\n",
    "\n",
    "om_path = \"../../model/yolo.om\"  # 输出文件的路径\n",
    "session = InferSession(0, om_path)\n",
    "\n",
    "input = torch.unsqueeze(img_tensor, dim=0).numpy()\n",
    "# execute inference, inputs is ndarray list and outputs is ndarray list\n",
    "output = session.infer(input, mode='static')\n",
    "\n",
    "print(output)"
   ]
  }
 ],
 "metadata": {
  "kernelspec": {
   "display_name": "base",
   "language": "python",
   "name": "python3"
  },
  "language_info": {
   "codemirror_mode": {
    "name": "ipython",
    "version": 3
   },
   "file_extension": ".py",
   "mimetype": "text/x-python",
   "name": "python",
   "nbconvert_exporter": "python",
   "pygments_lexer": "ipython3",
   "version": "3.9.2"
  }
 },
 "nbformat": 4,
 "nbformat_minor": 2
}
