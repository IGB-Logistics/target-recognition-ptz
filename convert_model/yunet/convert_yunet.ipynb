{
 "cells": [
  {
   "cell_type": "code",
   "execution_count": null,
   "metadata": {},
   "outputs": [],
   "source": [
    "import torch\n",
    "import cv2\n",
    "import numpy as np\n",
    "\n",
    "onnx_path = \"../../model/face_detection_yunet_120x160.onnx\"  # 文件的路径\n",
    "img = cv2.imread(\"./world_cup.jpg\")\n",
    "\n",
    "# load onnx model\n",
    "import onnx\n",
    "import onnxruntime as ort\n",
    "\n",
    "onnx_model = onnx.load(onnx_path)\n",
    "\n",
    "# 打印输入和输出\n",
    "print(\"Inputs: \", onnx_model.graph.input)\n",
    "print(\"Outputs: \", onnx_model.graph.output)\n",
    "\n",
    "onnx.checker.check_model(onnx_model)\n",
    "# 打印模型的层\n",
    "# print(onnx.helper.printable_graph(onnx_model.graph))\n",
    "\n",
    "# 创建一个运行时会话\n",
    "sess = ort.InferenceSession(onnx_path)\n",
    "\n",
    "# 输入是一个形状为 (1, 3, 120, 160) 的张量\n",
    "# 将图像缩放到 640x640\n",
    "img = cv2.resize(img, (120, 160))\n",
    "# 将 BGR 图像转换为 RGB 图像\n",
    "img = cv2.cvtColor(img, cv2.COLOR_BGR2RGB)\n",
    "# 将图像数据类型转换为 float32，并将值范围从 [0, 255] 缩放到 [0.0, 1.0]\n",
    "img = img.astype('float32') / 255.0\n",
    "# 将 HWC 图像转换为 CHW 图像\n",
    "img = img.transpose((2, 0, 1))\n",
    "# 添加一个新的维度，将 CHW 图像转换为 NCHW 图像\n",
    "img_tensor = torch.from_numpy(img)\n",
    "\n",
    "img_array = np.expand_dims(img_tensor, axis=0)\n",
    "input_name = sess.get_inputs()[0].name\n",
    "\n",
    "# 运行模型\n",
    "result = sess.run(None, {input_name: img_array})\n",
    "\n",
    "# 打印结果\n",
    "print(result)\n"
   ]
  }
 ],
 "metadata": {
  "language_info": {
   "name": "python"
  }
 },
 "nbformat": 4,
 "nbformat_minor": 2
}
